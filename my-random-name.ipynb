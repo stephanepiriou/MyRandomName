{
  "cells": [
    {
      "cell_type": "markdown",
      "source": [
        "# MyRandomName"
      ],
      "metadata": {}
    },
    {
      "cell_type": "code",
      "source": [
        "# Imports\n",
        "from bs4 import BeautifulSoup\n",
        "import requests"
      ],
      "outputs": [],
      "execution_count": 4,
      "metadata": {
        "collapsed": false,
        "outputHidden": false,
        "inputHidden": false
      }
    },
    {
      "cell_type": "code",
      "source": [
        "# Url parts\n",
        "url_start ='http://www.oxfordreference.com/view/10.1093/acref/9780199677764.001.0001/acref-9780199677764?btog=chap&hide=true&page='\n",
        "url_end = '&pageSize=100&skipEditions=true&sort=titlesort&source=%2F10.1093%2Facref%2F9780199677764.001.0001%2Facref-9780199677764'\n",
        "url_page = 1"
      ],
      "outputs": [],
      "execution_count": 5,
      "metadata": {
        "collapsed": false,
        "outputHidden": false,
        "inputHidden": false
      }
    },
    {
      "cell_type": "code",
      "source": [
        "# Scraping\n",
        "name = []\n",
        "for x in range(1, 458):\n",
        "    page = requests.get(url_start + str(x) + url_end)\n",
        "    content = BeautifulSoup(page.content, \"html.parser\")\n",
        "    divs = content.select(\".itemTitle a\")\n",
        "    for div in divs:\n",
        "        a = div.text\n",
        "        name.append(a)"
      ],
      "outputs": [],
      "execution_count": 6,
      "metadata": {
        "collapsed": false,
        "outputHidden": false,
        "inputHidden": false
      }
    },
    {
      "cell_type": "code",
      "source": [
        "# Saving\n",
        "with open('name.txt', \"w+\") as f:\n",
        "    for n in name:\n",
        "        f.write(n+'\\n')\n",
        "    f.close()"
      ],
      "outputs": [],
      "execution_count": 8,
      "metadata": {
        "collapsed": false,
        "outputHidden": false,
        "inputHidden": false
      }
    }
  ],
  "metadata": {
    "kernel_info": {
      "name": "python3"
    },
    "language_info": {
      "name": "python",
      "version": "3.7.0",
      "mimetype": "text/x-python",
      "codemirror_mode": {
        "name": "ipython",
        "version": 3
      },
      "pygments_lexer": "ipython3",
      "nbconvert_exporter": "python",
      "file_extension": ".py"
    },
    "kernelspec": {
      "name": "python3",
      "language": "python",
      "display_name": "Python 3"
    },
    "nteract": {
      "version": "0.10.0"
    }
  },
  "nbformat": 4,
  "nbformat_minor": 4
}